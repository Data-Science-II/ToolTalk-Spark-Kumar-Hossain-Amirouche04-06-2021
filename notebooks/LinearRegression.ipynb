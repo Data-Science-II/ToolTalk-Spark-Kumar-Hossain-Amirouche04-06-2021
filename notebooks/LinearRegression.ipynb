{
 "cells": [
  {
   "cell_type": "code",
   "execution_count": 18,
   "id": "determined-boulder",
   "metadata": {},
   "outputs": [
    {
     "data": {
      "text/plain": [
       "'3.1.1'"
      ]
     },
     "execution_count": 18,
     "metadata": {},
     "output_type": "execute_result"
    }
   ],
   "source": [
    "import pyspark\n",
    "from pyspark.sql import SparkSession\n",
    "from pyspark.sql.functions import col, isnull, when, count, col\n",
    "from pyspark.ml.feature import VectorAssembler\n",
    "from pyspark.ml.regression import LinearRegression\n",
    "\n",
    "pyspark.__version__"
   ]
  },
  {
   "cell_type": "code",
   "execution_count": 3,
   "id": "focused-cancer",
   "metadata": {},
   "outputs": [],
   "source": [
    "spark = SparkSession.builder.appName(\"AutoMPG\").getOrCreate()"
   ]
  },
  {
   "cell_type": "code",
   "execution_count": 4,
   "id": "lightweight-greensboro",
   "metadata": {},
   "outputs": [
    {
     "data": {
      "text/html": [
       "\n",
       "            <div>\n",
       "                <p><b>SparkSession - in-memory</b></p>\n",
       "                \n",
       "        <div>\n",
       "            <p><b>SparkContext</b></p>\n",
       "\n",
       "            <p><a href=\"http://192.168.1.52:4040\">Spark UI</a></p>\n",
       "\n",
       "            <dl>\n",
       "              <dt>Version</dt>\n",
       "                <dd><code>v3.1.1</code></dd>\n",
       "              <dt>Master</dt>\n",
       "                <dd><code>local[*]</code></dd>\n",
       "              <dt>AppName</dt>\n",
       "                <dd><code>AutoMPG</code></dd>\n",
       "            </dl>\n",
       "        </div>\n",
       "        \n",
       "            </div>\n",
       "        "
      ],
      "text/plain": [
       "<pyspark.sql.session.SparkSession at 0x24fe69ec088>"
      ]
     },
     "execution_count": 4,
     "metadata": {},
     "output_type": "execute_result"
    }
   ],
   "source": [
    "spark"
   ]
  },
  {
   "cell_type": "code",
   "execution_count": 7,
   "id": "framed-guidance",
   "metadata": {},
   "outputs": [
    {
     "name": "stdout",
     "output_type": "stream",
     "text": [
      "+---+---------+------------+----------+------+------------+----------+\n",
      "|mpg|cylinders|displacement|horsepower|weight|acceleration|model-year|\n",
      "+---+---------+------------+----------+------+------------+----------+\n",
      "| 18|        8|         307|       130|  3504|          12|        70|\n",
      "| 15|        8|         350|       165|  3693|        11.5|        70|\n",
      "| 18|        8|         318|       150|  3436|          11|        70|\n",
      "| 16|        8|         304|       150|  3433|          12|        70|\n",
      "| 17|        8|         302|       140|  3449|        10.5|        70|\n",
      "+---+---------+------------+----------+------+------------+----------+\n",
      "only showing top 5 rows\n",
      "\n",
      "None\n",
      "398\n",
      "['mpg', 'cylinders', 'displacement', 'horsepower', 'weight', 'acceleration', 'model-year']\n",
      "[('mpg', 'string'), ('cylinders', 'string'), ('displacement', 'string'), ('horsepower', 'string'), ('weight', 'string'), ('acceleration', 'string'), ('model-year', 'string')]\n"
     ]
    }
   ],
   "source": [
    "df = spark.read.format(\"csv\").option('header', 'true').load('../data/auto-mpg.csv')\n",
    "print(df.show(5))\n",
    "print(df.count())\n",
    "print(df.columns)\n",
    "print(df.dtypes)"
   ]
  },
  {
   "cell_type": "code",
   "execution_count": 11,
   "id": "sporting-finding",
   "metadata": {},
   "outputs": [
    {
     "name": "stdout",
     "output_type": "stream",
     "text": [
      "+----+---------+------------+----------+------+------------+----------+\n",
      "| mpg|cylinders|displacement|horsepower|weight|acceleration|model-year|\n",
      "+----+---------+------------+----------+------+------------+----------+\n",
      "|18.0|      8.0|       307.0|     130.0|3504.0|        12.0|      70.0|\n",
      "|15.0|      8.0|       350.0|     165.0|3693.0|        11.5|      70.0|\n",
      "|18.0|      8.0|       318.0|     150.0|3436.0|        11.0|      70.0|\n",
      "|16.0|      8.0|       304.0|     150.0|3433.0|        12.0|      70.0|\n",
      "|17.0|      8.0|       302.0|     140.0|3449.0|        10.5|      70.0|\n",
      "+----+---------+------------+----------+------+------------+----------+\n",
      "only showing top 5 rows\n",
      "\n"
     ]
    }
   ],
   "source": [
    "dataset = df.select(col('mpg').cast('float'), \n",
    "                    col('cylinders').cast('float'), \n",
    "                    col('displacement').cast('float'), \n",
    "                    col('horsepower').cast('float'), \n",
    "                    col('weight').cast('float'), \n",
    "                    col('acceleration').cast('float'), \n",
    "                    col('model-year').cast('float'))\n",
    "dataset.show(5)"
   ]
  },
  {
   "cell_type": "code",
   "execution_count": 13,
   "id": "special-seller",
   "metadata": {},
   "outputs": [
    {
     "name": "stdout",
     "output_type": "stream",
     "text": [
      "+---+---------+------------+----------+------+------------+----------+\n",
      "|mpg|cylinders|displacement|horsepower|weight|acceleration|model-year|\n",
      "+---+---------+------------+----------+------+------------+----------+\n",
      "|  0|        0|           0|         0|     0|           0|         0|\n",
      "+---+---------+------------+----------+------+------------+----------+\n",
      "\n"
     ]
    }
   ],
   "source": [
    "dataset.select([count(when(isnull(c), c)).alias(c) for c in dataset.columns]).show()"
   ]
  },
  {
   "cell_type": "code",
   "execution_count": 15,
   "id": "focal-coaching",
   "metadata": {},
   "outputs": [
    {
     "name": "stdout",
     "output_type": "stream",
     "text": [
      "+----+---------+------------+----------+------+------------+----------+--------------------+\n",
      "| mpg|cylinders|displacement|horsepower|weight|acceleration|model-year|            features|\n",
      "+----+---------+------------+----------+------+------------+----------+--------------------+\n",
      "|18.0|      8.0|       307.0|     130.0|3504.0|        12.0|      70.0|[8.0,307.0,130.0,...|\n",
      "|15.0|      8.0|       350.0|     165.0|3693.0|        11.5|      70.0|[8.0,350.0,165.0,...|\n",
      "|18.0|      8.0|       318.0|     150.0|3436.0|        11.0|      70.0|[8.0,318.0,150.0,...|\n",
      "|16.0|      8.0|       304.0|     150.0|3433.0|        12.0|      70.0|[8.0,304.0,150.0,...|\n",
      "|17.0|      8.0|       302.0|     140.0|3449.0|        10.5|      70.0|[8.0,302.0,140.0,...|\n",
      "+----+---------+------------+----------+------+------------+----------+--------------------+\n",
      "only showing top 5 rows\n",
      "\n"
     ]
    }
   ],
   "source": [
    "required_features = ['cylinders', 'displacement', 'horsepower', 'weight', 'acceleration', 'model-year']\n",
    "assembler = VectorAssembler(inputCols=required_features, outputCol = 'features')\n",
    "transformed_data = assembler.transform(dataset)\n",
    "transformed_data.show(5)"
   ]
  },
  {
   "cell_type": "code",
   "execution_count": 24,
   "id": "religious-simon",
   "metadata": {},
   "outputs": [
    {
     "name": "stdout",
     "output_type": "stream",
     "text": [
      "Coefs = [-0.2582414241943512,0.007248834118746308,0.00014607550879027937,-0.006928776824311312,0.08101327338155707,0.7554346102698345]\n",
      "Intercept = -14.594543226140484\n",
      "r2 = 0.8086877083987737\n"
     ]
    }
   ],
   "source": [
    "lm = LinearRegression(labelCol = 'mpg', featuresCol = 'features')\n",
    "lm = lm.fit(transformed_data)\n",
    "print(f\"Coefs = {lm.coefficients}\")\n",
    "print(f\"Intercept = {lm.intercept}\")\n",
    "print(f\"r2 = {lm.summary.r2}\")"
   ]
  }
 ],
 "metadata": {
  "kernelspec": {
   "display_name": "Python 3",
   "language": "python",
   "name": "python3"
  },
  "language_info": {
   "codemirror_mode": {
    "name": "ipython",
    "version": 3
   },
   "file_extension": ".py",
   "mimetype": "text/x-python",
   "name": "python",
   "nbconvert_exporter": "python",
   "pygments_lexer": "ipython3",
   "version": "3.7.10"
  }
 },
 "nbformat": 4,
 "nbformat_minor": 5
}
